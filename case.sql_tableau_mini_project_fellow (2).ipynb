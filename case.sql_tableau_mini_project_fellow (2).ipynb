{
  "metadata": {
    "c1_recart": "7.63.0-57c20131aabc1dc2a8c675852d80a7da",
    "celltoolbar": "Tags",
    "vscode": {
      "interpreter": {
        "hash": "15eb14ceb40cd276c3d2d597abf4d24bf92074ecf70bc096da2ec6c6670cfacc"
      }
    },
    "kernelspec": {
      "display_name": "SQLite",
      "language": "sql",
      "name": "SQLite"
    },
    "language_info": {
      "codemirror_mode": "sql",
      "file_extension": "",
      "mimetype": "",
      "name": "sql",
      "version": "3.32.3"
    }
  },
  "nbformat_minor": 4,
  "nbformat": 4,
  "cells": [
    {
      "cell_type": "markdown",
      "source": "# Mini Project 4: Specialty Foods Inc. - SQL Exercises",
      "metadata": {}
    },
    {
      "cell_type": "markdown",
      "source": "## Introduction\n\n**Business Context.** Specialty Foods Inc. is a food retailer focusing on the higher end of the market. You are a new member of the marketing team that was hired based on your data analytic skills. The company is interested in improving business results through more data-driven analysis and decision making. Traditionally the marketing department has launched campaigns to increase sales using qualitative analysis that has focused on previous experience and an understanding of the market. \nGiven your data analytic skills, your manager has asked you to help the marketing team by  gathering insights into the type of customers the company has and the products they buy. You are also asked to review past campaigns and suggest improvements for future marketing campaigns. In addition to gaining a better understanding of the business your analysis should result in specific recommendations on how the company can improve business results.\n\n**Objective:** The goal of this mini project 4 is to practice your SQL skills by querying and aggregating data. Additionally you will use Tableau to create professional data visualizations.\n\n**Analysis / Data Analytics:** For your analysis your team should begin by answering the questions below. However these questions are aimed only to get you started and practice your skills. You should consider further analysis and determine what additional questions will help in both understanding the business and making recommendations to improve the business’s results. ",
      "metadata": {}
    },
    {
      "cell_type": "markdown",
      "source": "### Tools used in this project\n\nSQL is a key tool used for data analysis. It is used for querying and accessing data, performing data cleaning, and analyzing data that is stored in databases. It performs some similar tasks that we have used Excel for but is a more powerful tool when manipulating larger datasets and provides some of the flexibility found in programming languages.\n\nTableau is a professional data visualization software that is widely used in industry. It is a great tool for storytelling with data. Once you are familiar with its functionality you should notice some similarities with Excel which will allow you to quickly get up to speed with the Tableau software. Use Tableau to create your charts similar to those in Excel for presenting your data insights and it can also be used for exploratory data analysis. ",
      "metadata": {}
    },
    {
      "cell_type": "markdown",
      "source": "## Overview of the data\n\nThe data for this case is contained in three separate tables which are extracts from the customer, sales, and marketing databases of the company and contain the information below:\n\n**Customer table includes the following information:**\n* **ID**: customer unique ID\n* **Income**: customer’s yearly household income\n* **Kids**: number of small children in the household\n* **Teens**: number of teenagers in the household\n* **Age**: age of customer\n* **Divorced**: 1 if the person is divorced, 0 otherwise\n* **Married**: 1 if the person is married, 0 otherwise\n* **Single**: 1 if the person is single, 0 otherwise\n* **Together**: 1 if the person is living with a partner, 0 otherwise\n* **Widowed**: 1 if the person is widowed, 0 otherwise\n* **Basic**: 1 if education is secondary level (high school), 0 otherwise\n* **Graduate**: 1 if education is university level, 0 otherwise\n* **Master**: 1 if education is masters level, 0 otherwise\n* **PhD**: 1 if education is doctorate level, 0 otherwise\n* **State**: US state of residency\n\n**Sales table includes the following information:**\n* **ID**: customer unique ID\n* **Recency**: days since last purchase\n* **Wines**: amount spent on wine\n* **Fruits**: amount spent on fruit\n* **Meats**: amount spent on meat\n* **Seafood**: amount spent on seafood\n* **Sweets**: amount spent on sweets\n* **Premium**: amount spent on premium products\n* **Regular**: amount spent on standard products\n* **Deals**: number of purchases made with a discount\n* **Web**: number of website purchases\n* **Catalog**: number of catalog purchases\n* **Store**: number of in-store purchases\n* **Days**: number of days since last purchase\n* **Visits**: number of website visits in past 3 months\n\n**Marketing table includes the following information:**\n* **ID**: customer unique ID\n* **MC3**: 1 if customer made a purchase based on Campaign 3, otherwise 0\n* **MC4**: 1 if customer made a purchase based on Campaign 4, otherwise 0\n* **MC5**: 1 if customer made a purchase based on Campaign 5, otherwise 0\n* **MC1**: 1 if customer made a purchase based on Campaign 1, otherwise 0\n* **MC2**: 1 if customer made a purchase based on Campaign 2, otherwise 0\n* **Complaint**: 1 if customer made a complaint in past year\n* **Pilot**: 1 if customer made a purchase based on a recent pilot marketing campaign for a new product, otherwise 0\n* **Enrollment**: date the customer enrolled with the company\n",
      "metadata": {}
    },
    {
      "cell_type": "markdown",
      "source": "### Your Task\n\nIn addition to brainstorming with your team members, you should discuss with your TAs and learn from other fellows to explore other techniques for using SQL and Tableau.\n\nFor your analysis your team should begin by answering the questions below. However these questions are aimed only to get you started and practice your skills. You should consider further analysis and determine what additional questions will help in both understanding the business and making recommendations to improve the business’s results. You can add cells to this jupyter notebook in order to run additional sql queries that can help you investigate the dataset and develop your analysis.",
      "metadata": {}
    },
    {
      "cell_type": "markdown",
      "source": "**Deliverables.**   \n\nPlace the code answers to the SQL questions in the Jupyter Notebook. Add as many additional code cells as you need in order to complete your analysis. Also include any written responses to the respective SQL questions, and the rationale for your additional SQL analyses in the Jupyter Notebook within a markdown (text) cell.  \n\nPlace the link(s) to your Tableau visualizations in a markdown cell at the end of the jupyter notebook.",
      "metadata": {}
    },
    {
      "cell_type": "markdown",
      "source": "### Getting Started\n\nWe will begin by loading a database containing Specialty Foods' customer, sales, and marketing data tables. These next two cells are not standard SQL, so just run them as is.",
      "metadata": {}
    },
    {
      "cell_type": "code",
      "source": "%FETCH https://amzn-dana.workspace-lite.correlation-one.com/case.sql_tableau_mini_project_fellow/files/data/specialtyfoods.db specialtyfoods",
      "metadata": {
        "trusted": true
      },
      "execution_count": 1,
      "outputs": [
        {
          "name": "stdout",
          "text": "Start downloading from URL https://amzn-dana.workspace-lite.correlation-one.com/case.sql_tableau_mini_project_fellow/files/data/specialtyfoods.db\nDownloading https://amzn-dana.workspace-lite.correlation-one.com/case.sql_tableau_mini_project_fellow/files/data/specialtyfoods.db 0.41% complete\nDownloading https://amzn-dana.workspace-lite.correlation-one.com/case.sql_tableau_mini_project_fellow/files/data/specialtyfoods.db 1e+02% complete\nFinished downloading 249856 bytes from URL https://amzn-dana.workspace-lite.correlation-one.com/case.sql_tableau_mini_project_fellow/files/data/specialtyfoods.db\nWriting downloaded data to file specialtyfoods\nFinished writing file\n",
          "output_type": "stream"
        }
      ]
    },
    {
      "cell_type": "code",
      "source": "%LOAD specialtyfoods RW",
      "metadata": {
        "trusted": true
      },
      "execution_count": 2,
      "outputs": []
    },
    {
      "cell_type": "markdown",
      "source": "Using our new database query the tables to understand what type of data is included in each table.",
      "metadata": {}
    },
    {
      "cell_type": "markdown",
      "source": "Let's query the customer table in our database like this:",
      "metadata": {}
    },
    {
      "cell_type": "code",
      "source": "SELECT * FROM customer LIMIT 5;",
      "metadata": {
        "trusted": true
      },
      "execution_count": 3,
      "outputs": [
        {
          "execution_count": 3,
          "output_type": "execute_result",
          "data": {
            "text/html": "<table>\n<tr>\n<th>ID</th>\n<th>Income</th>\n<th>Kids</th>\n<th>Teens</th>\n<th>Age</th>\n<th>Divorced</th>\n<th>Married</th>\n<th>Single</th>\n<th>Together</th>\n<th>Widow</th>\n<th>Basic</th>\n<th>Graduate</th>\n<th>Master</th>\n<th>PhD</th>\n<th>State</th>\n</tr>\n<tr>\n<td>2873</td>\n<td>213734</td>\n<td>0.0</td>\n<td>0.0</td>\n<td>75</td>\n<td>0</td>\n<td>0</td>\n<td>1</td>\n<td>0</td>\n<td>0</td>\n<td>0</td>\n<td>0</td>\n<td>0</td>\n<td>1</td>\n<td>State-California</td>\n</tr>\n<tr>\n<td>1629</td>\n<td>205471</td>\n<td>0.0</td>\n<td>0.0</td>\n<td>50</td>\n<td>0</td>\n<td>0</td>\n<td>0</td>\n<td>1</td>\n<td>0</td>\n<td>0</td>\n<td>1</td>\n<td>0</td>\n<td>0</td>\n<td>State-Texas</td>\n</tr>\n<tr>\n<td>1239</td>\n<td>202692</td>\n<td>0.0</td>\n<td>0.0</td>\n<td>46</td>\n<td>1</td>\n<td>0</td>\n<td>0</td>\n<td>0</td>\n<td>0</td>\n<td>0</td>\n<td>1</td>\n<td>0</td>\n<td>0</td>\n<td>State-Texas</td>\n</tr>\n<tr>\n<td>1191</td>\n<td>202160</td>\n<td>0.0</td>\n<td>0.0</td>\n<td>43</td>\n<td>0</td>\n<td>0</td>\n<td>0</td>\n<td>1</td>\n<td>0</td>\n<td>0</td>\n<td>0</td>\n<td>0</td>\n<td>1</td>\n<td>State-Texas</td>\n</tr>\n<tr>\n<td>1116</td>\n<td>201970</td>\n<td>0.0</td>\n<td>0.0</td>\n<td>37</td>\n<td>0</td>\n<td>0</td>\n<td>1</td>\n<td>0</td>\n<td>0</td>\n<td>0</td>\n<td>1</td>\n<td>0</td>\n<td>0</td>\n<td>State-Florida</td>\n</tr>\n</table>",
            "text/plain": "+------+--------+------+-------+-----+----------+---------+--------+----------+-------+-------+----------+--------+-----+------------------+\n| ID   | Income | Kids | Teens | Age | Divorced | Married | Single | Together | Widow | Basic | Graduate | Master | PhD | State            |\n+------+--------+------+-------+-----+----------+---------+--------+----------+-------+-------+----------+--------+-----+------------------+\n| 2873 | 213734 | 0.0  | 0.0   | 75  | 0        | 0       | 1      | 0        | 0     | 0     | 0        | 0      | 1   | State-California |\n+------+--------+------+-------+-----+----------+---------+--------+----------+-------+-------+----------+--------+-----+------------------+\n| 1629 | 205471 | 0.0  | 0.0   | 50  | 0        | 0       | 0      | 1        | 0     | 0     | 1        | 0      | 0   | State-Texas      |\n+------+--------+------+-------+-----+----------+---------+--------+----------+-------+-------+----------+--------+-----+------------------+\n| 1239 | 202692 | 0.0  | 0.0   | 46  | 1        | 0       | 0      | 0        | 0     | 0     | 1        | 0      | 0   | State-Texas      |\n+------+--------+------+-------+-----+----------+---------+--------+----------+-------+-------+----------+--------+-----+------------------+\n| 1191 | 202160 | 0.0  | 0.0   | 43  | 0        | 0       | 0      | 1        | 0     | 0     | 0        | 0      | 1   | State-Texas      |\n+------+--------+------+-------+-----+----------+---------+--------+----------+-------+-------+----------+--------+-----+------------------+\n| 1116 | 201970 | 0.0  | 0.0   | 37  | 0        | 0       | 1      | 0        | 0     | 0     | 1        | 0      | 0   | State-Florida    |\n+------+--------+------+-------+-----+----------+---------+--------+----------+-------+-------+----------+--------+-----+------------------+"
          },
          "metadata": {}
        }
      ]
    },
    {
      "cell_type": "markdown",
      "source": "### Exercise 1\n\nSimiarly, explore the marketing and sales tables.",
      "metadata": {}
    },
    {
      "cell_type": "markdown",
      "source": "Write a query to understand your data in the sales table. ",
      "metadata": {}
    },
    {
      "cell_type": "code",
      "source": "SELECT *\nFROM sales LIMIT 5;",
      "metadata": {
        "trusted": true
      },
      "execution_count": 6,
      "outputs": [
        {
          "execution_count": 6,
          "output_type": "execute_result",
          "data": {
            "text/html": "<table>\n<tr>\n<th>ID</th>\n<th>Recency</th>\n<th>Wines</th>\n<th>Fruits</th>\n<th>Meats</th>\n<th>Seafood</th>\n<th>Sweets</th>\n<th>Premium</th>\n<th>Regular</th>\n<th>Deals</th>\n<th>Website</th>\n<th>Catalog</th>\n<th>Store</th>\n<th>Visits</th>\n</tr>\n<tr>\n<td>1428</td>\n<td>99</td>\n<td>0</td>\n<td>36</td>\n<td>18</td>\n<td>42</td>\n<td>36</td>\n<td>72</td>\n<td>60</td>\n<td>1</td>\n<td>1.0</td>\n<td>0.0</td>\n<td>3</td>\n<td>8</td>\n</tr>\n<tr>\n<td>2152</td>\n<td>99</td>\n<td>0</td>\n<td>36</td>\n<td>18</td>\n<td>42</td>\n<td>36</td>\n<td>72</td>\n<td>60</td>\n<td>1</td>\n<td>1.0</td>\n<td>0.0</td>\n<td>3</td>\n<td>8</td>\n</tr>\n<tr>\n<td>2014</td>\n<td>99</td>\n<td>21</td>\n<td>42</td>\n<td>55</td>\n<td>13</td>\n<td>34</td>\n<td>68</td>\n<td>97</td>\n<td>1</td>\n<td>1.0</td>\n<td>0.0</td>\n<td>3</td>\n<td>8</td>\n</tr>\n<tr>\n<td>2660</td>\n<td>99</td>\n<td>81</td>\n<td>0</td>\n<td>27</td>\n<td>0</td>\n<td>3</td>\n<td>13</td>\n<td>98</td>\n<td>1</td>\n<td>1.0</td>\n<td>0.0</td>\n<td>3</td>\n<td>5</td>\n</tr>\n<tr>\n<td>1196</td>\n<td>99</td>\n<td>175</td>\n<td>0</td>\n<td>23</td>\n<td>0</td>\n<td>0</td>\n<td>13</td>\n<td>184</td>\n<td>1</td>\n<td>2.0</td>\n<td>0.0</td>\n<td>3</td>\n<td>6</td>\n</tr>\n</table>",
            "text/plain": "+------+---------+-------+--------+-------+---------+--------+---------+---------+-------+---------+---------+-------+--------+\n| ID   | Recency | Wines | Fruits | Meats | Seafood | Sweets | Premium | Regular | Deals | Website | Catalog | Store | Visits |\n+------+---------+-------+--------+-------+---------+--------+---------+---------+-------+---------+---------+-------+--------+\n| 1428 | 99      | 0     | 36     | 18    | 42      | 36     | 72      | 60      | 1     | 1.0     | 0.0     | 3     | 8      |\n+------+---------+-------+--------+-------+---------+--------+---------+---------+-------+---------+---------+-------+--------+\n| 2152 | 99      | 0     | 36     | 18    | 42      | 36     | 72      | 60      | 1     | 1.0     | 0.0     | 3     | 8      |\n+------+---------+-------+--------+-------+---------+--------+---------+---------+-------+---------+---------+-------+--------+\n| 2014 | 99      | 21    | 42     | 55    | 13      | 34     | 68      | 97      | 1     | 1.0     | 0.0     | 3     | 8      |\n+------+---------+-------+--------+-------+---------+--------+---------+---------+-------+---------+---------+-------+--------+\n| 2660 | 99      | 81    | 0      | 27    | 0       | 3      | 13      | 98      | 1     | 1.0     | 0.0     | 3     | 5      |\n+------+---------+-------+--------+-------+---------+--------+---------+---------+-------+---------+---------+-------+--------+\n| 1196 | 99      | 175   | 0      | 23    | 0       | 0      | 13      | 184     | 1     | 2.0     | 0.0     | 3     | 6      |\n+------+---------+-------+--------+-------+---------+--------+---------+---------+-------+---------+---------+-------+--------+"
          },
          "metadata": {}
        }
      ]
    },
    {
      "cell_type": "markdown",
      "source": "**Answer.**",
      "metadata": {
        "tags": [
          "ans_st"
        ]
      }
    },
    {
      "cell_type": "markdown",
      "source": "Write a query to understand your data in the marketing table.",
      "metadata": {}
    },
    {
      "cell_type": "code",
      "source": "SELECT *\nFROM marketing LIMIT 5;",
      "metadata": {
        "trusted": true
      },
      "execution_count": 7,
      "outputs": [
        {
          "execution_count": 7,
          "output_type": "execute_result",
          "data": {
            "text/html": "<table>\n<tr>\n<th>ID</th>\n<th>MC3</th>\n<th>MC4</th>\n<th>MC5</th>\n<th>MC1</th>\n<th>MC2</th>\n<th>Complaint</th>\n<th>Pilot</th>\n<th>Enrollment</th>\n</tr>\n<tr>\n<td>1188</td>\n<td>0</td>\n<td>1</td>\n<td>0</td>\n<td>0</td>\n<td>0</td>\n<td>0</td>\n<td>0</td>\n<td>12/3/2020</td>\n</tr>\n<tr>\n<td>1970</td>\n<td>0</td>\n<td>0</td>\n<td>0</td>\n<td>0</td>\n<td>0</td>\n<td>0</td>\n<td>0</td>\n<td>12/3/2020</td>\n</tr>\n<tr>\n<td>1043</td>\n<td>0</td>\n<td>0</td>\n<td>0</td>\n<td>0</td>\n<td>0</td>\n<td>0</td>\n<td>0</td>\n<td>12/2/2020</td>\n</tr>\n<tr>\n<td>1777</td>\n<td>0</td>\n<td>0</td>\n<td>0</td>\n<td>0</td>\n<td>0</td>\n<td>0</td>\n<td>0</td>\n<td>12/2/2020</td>\n</tr>\n<tr>\n<td>2787</td>\n<td>0</td>\n<td>0</td>\n<td>0</td>\n<td>1</td>\n<td>0</td>\n<td>0</td>\n<td>0</td>\n<td>12/2/2020</td>\n</tr>\n</table>",
            "text/plain": "+------+-----+-----+-----+-----+-----+-----------+-------+------------+\n| ID   | MC3 | MC4 | MC5 | MC1 | MC2 | Complaint | Pilot | Enrollment |\n+------+-----+-----+-----+-----+-----+-----------+-------+------------+\n| 1188 | 0   | 1   | 0   | 0   | 0   | 0         | 0     | 12/3/2020  |\n+------+-----+-----+-----+-----+-----+-----------+-------+------------+\n| 1970 | 0   | 0   | 0   | 0   | 0   | 0         | 0     | 12/3/2020  |\n+------+-----+-----+-----+-----+-----+-----------+-------+------------+\n| 1043 | 0   | 0   | 0   | 0   | 0   | 0         | 0     | 12/2/2020  |\n+------+-----+-----+-----+-----+-----+-----------+-------+------------+\n| 1777 | 0   | 0   | 0   | 0   | 0   | 0         | 0     | 12/2/2020  |\n+------+-----+-----+-----+-----+-----+-----------+-------+------------+\n| 2787 | 0   | 0   | 0   | 1   | 0   | 0         | 0     | 12/2/2020  |\n+------+-----+-----+-----+-----+-----+-----------+-------+------------+"
          },
          "metadata": {}
        }
      ]
    },
    {
      "cell_type": "markdown",
      "source": "**Answer.**",
      "metadata": {
        "tags": [
          "ans_st"
        ]
      }
    },
    {
      "cell_type": "markdown",
      "source": "### Exercise 2\n\nQuery the database for the products that are purchased by customers based on marital status.\n\nSpecifically, join the customer and products tables and create a query for amount of wine (TotalWines) purchased by customers based on whether they are divorced or not.\n\nExpected output:\n\nDivorced\tTotalWines\n\n        0\t1538225\n        1\t196111\n",
      "metadata": {}
    },
    {
      "cell_type": "code",
      "source": "SELECT customer.Divorced, SUM(sales.Wines) AS TotalWines\nFROM sales JOIN customer\nON customer.ID = sales.Id\nGroup by Divorced",
      "metadata": {
        "trusted": true
      },
      "execution_count": 8,
      "outputs": [
        {
          "execution_count": 8,
          "output_type": "execute_result",
          "data": {
            "text/html": "<table>\n<tr>\n<th>Divorced</th>\n<th>TotalWines</th>\n</tr>\n<tr>\n<td>0</td>\n<td>1538225</td>\n</tr>\n<tr>\n<td>1</td>\n<td>196111</td>\n</tr>\n</table>",
            "text/plain": "+----------+------------+\n| Divorced | TotalWines |\n+----------+------------+\n| 0        | 1538225    |\n+----------+------------+\n| 1        | 196111     |\n+----------+------------+"
          },
          "metadata": {}
        }
      ]
    },
    {
      "cell_type": "markdown",
      "source": "**Answer.**",
      "metadata": {
        "tags": [
          "ans_st"
        ]
      }
    },
    {
      "cell_type": "markdown",
      "source": "### Exercise 3\n\nQuery the database to determine what type of customers purchase which products. Can you describe what are the types of customers, e.g. what is the customer persona or segment.\n\nSpecifically, create a query to find the total amount spent on sweets (TotalSweets) for customers who have education above the university level and who are not single.\n\nExpected output:\n\nMaster\tPhD\tTotalSweets\n\n    0\t1\t17683\n    1\t0\t15213\n\n",
      "metadata": {}
    },
    {
      "cell_type": "code",
      "source": "SELECT customer.Master, customer.PhD, SUM(sales.Sweets) AS TotalSweets\nFROM sales JOIN customer\nON customer.ID = sales.ID\nWhere Single=0 and (Master=1 OR PhD = 1)\nGroup by customer.Master,customer.PhD",
      "metadata": {
        "trusted": true
      },
      "execution_count": 9,
      "outputs": [
        {
          "execution_count": 9,
          "output_type": "execute_result",
          "data": {
            "text/html": "<table>\n<tr>\n<th>Master</th>\n<th>PhD</th>\n<th>TotalSweets</th>\n</tr>\n<tr>\n<td>0</td>\n<td>1</td>\n<td>17683</td>\n</tr>\n<tr>\n<td>1</td>\n<td>0</td>\n<td>15213</td>\n</tr>\n</table>",
            "text/plain": "+--------+-----+-------------+\n| Master | PhD | TotalSweets |\n+--------+-----+-------------+\n| 0      | 1   | 17683       |\n+--------+-----+-------------+\n| 1      | 0   | 15213       |\n+--------+-----+-------------+"
          },
          "metadata": {}
        }
      ]
    },
    {
      "cell_type": "markdown",
      "source": "**Answer.**",
      "metadata": {
        "tags": [
          "ans_st"
        ]
      }
    },
    {
      "cell_type": "markdown",
      "source": "### Exercise 4\n\nQuery your database to discover which products bring in the most revenues for different customer segments.\n\nSpecifically, create a query to find the average age (AveAge) and average income (AveIncome) of customers from California along with their total sales for meats (TotalMeats) and seafood (TotalSeafood).\n\nExpected output:\n\nAveAge:  50.30810810810811\n\nAveIncome:  152234.3135135135\n\nTotalMeats:  147089\n\nTotalSeafood:  40222\n",
      "metadata": {}
    },
    {
      "cell_type": "code",
      "source": "SELECT AVG(customer.Age) AS AveAge, AVG(customer.Income) AS AveIncome, SUM(sales.Meats)AS TotalMeats, SUM(sales.seafood) AS TotalSeafood\nFROM sales JOIN customer\nON customer.ID = sales.ID\nWHERE State = \"State-California\"",
      "metadata": {
        "trusted": true
      },
      "execution_count": 10,
      "outputs": [
        {
          "execution_count": 10,
          "output_type": "execute_result",
          "data": {
            "text/html": "<table>\n<tr>\n<th>AveAge</th>\n<th>AveIncome</th>\n<th>TotalMeats</th>\n<th>TotalSeafood</th>\n</tr>\n<tr>\n<td>50.3081081081081</td>\n<td>152234.313513514</td>\n<td>147089</td>\n<td>40222</td>\n</tr>\n</table>",
            "text/plain": "+------------------+------------------+------------+--------------+\n| AveAge           | AveIncome        | TotalMeats | TotalSeafood |\n+------------------+------------------+------------+--------------+\n| 50.3081081081081 | 152234.313513514 | 147089     | 40222        |\n+------------------+------------------+------------+--------------+"
          },
          "metadata": {}
        }
      ]
    },
    {
      "cell_type": "markdown",
      "source": "**Answer.**",
      "metadata": {
        "tags": [
          "ans_st"
        ]
      }
    },
    {
      "cell_type": "markdown",
      "source": "## SQL Bonus Question (Optional)\n\n### Exercise 5\n\nCreate one query that outputs the total sales from premium products and the average income of customers for customers over the age of 50 who participated in marketing campaign 5. \n\nHint: use two inner joins\n\nExpected output:\n\nTotalPremium:  12077\n\nAveIncome:  181205.7972972973",
      "metadata": {}
    },
    {
      "cell_type": "code",
      "source": "SELECT SUM(sales.Premium) AS TotalPremium, AVG(customer.Income) AS AveIncome\nFROM sales\nINNER JOIN customer\nON customer.ID = sales.ID\n INNER JOIN marketing\nON customer.ID=marketing.ID\nWHERE customer.Age> 50 AND marketing.MC5=1;",
      "metadata": {
        "trusted": true
      },
      "execution_count": 11,
      "outputs": [
        {
          "execution_count": 11,
          "output_type": "execute_result",
          "data": {
            "text/html": "<table>\n<tr>\n<th>TotalPremium</th>\n<th>AveIncome</th>\n</tr>\n<tr>\n<td>12077</td>\n<td>181205.797297297</td>\n</tr>\n</table>",
            "text/plain": "+--------------+------------------+\n| TotalPremium | AveIncome        |\n+--------------+------------------+\n| 12077        | 181205.797297297 |\n+--------------+------------------+"
          },
          "metadata": {}
        }
      ]
    },
    {
      "cell_type": "markdown",
      "source": "**Answer.**",
      "metadata": {
        "tags": [
          "ans_st"
        ]
      }
    },
    {
      "cell_type": "markdown",
      "source": "### Your Analysis\n\nThis ends the directed part of the analysis. Be sure to continue your own analysis below, adding code and markdown cells as needed.",
      "metadata": {
        "tags": []
      }
    }
  ]
}